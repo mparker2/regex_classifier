{
 "cells": [
  {
   "cell_type": "code",
   "execution_count": 1,
   "metadata": {
    "ExecuteTime": {
     "end_time": "2017-10-12T21:31:27.314937",
     "start_time": "2017-10-12T21:31:25.353982Z"
    },
    "collapsed": true,
    "deletable": true,
    "editable": true
   },
   "outputs": [],
   "source": [
    "from itertools import combinations, combinations_with_replacement, product\n",
    "import random\n",
    "\n",
    "import numpy as np\n",
    "import matplotlib.pyplot as plt\n",
    "import seaborn as sns\n",
    "\n",
    "from Bio.SeqIO import parse\n",
    "\n",
    "from sklearn.metrics import roc_auc_score, roc_curve, confusion_matrix\n",
    "\n",
    "from ushuffle import shuffle as kmer_shuffle\n",
    "\n",
    "from regex_classifier import RegexGeneticEnsembleClassifier"
   ]
  },
  {
   "cell_type": "code",
   "execution_count": 8,
   "metadata": {
    "ExecuteTime": {
     "end_time": "2017-10-12T21:30:02.594088",
     "start_time": "2017-10-12T21:29:32.427074Z"
    },
    "collapsed": false,
    "deletable": true,
    "editable": true
   },
   "outputs": [],
   "source": [
    "%%bash\n",
    "source activate jupyter_python3\n",
    "bedtools intersect -s -a K_called_peaks.bed -b PDS_called_peaks.bed > KPDS_called_peaks.bed\n",
    "bedtools getfasta -s -fi hg19.fa -bed KPDS_called_peaks.bed -fo stdout | \\\n",
    "  fold -w 80 > training_seqs.fa"
   ]
  },
  {
   "cell_type": "code",
   "execution_count": 10,
   "metadata": {
    "ExecuteTime": {
     "end_time": "2017-10-12T21:33:10.370509",
     "start_time": "2017-10-12T21:33:10.355405Z"
    },
    "collapsed": false,
    "deletable": true,
    "editable": true
   },
   "outputs": [],
   "source": [
    "# create the components for regular expression\n",
    "bases = []\n",
    "weights = []\n",
    "for i in (1, 2, 3, 4):\n",
    "    b = ['[' + ''.join(b) + ']' for b in combinations('ACGT', i)]\n",
    "    bases += b\n",
    "    weights += [np.reciprocal(float(i)), ] * len(b)\n",
    "sizes = ['{{{:d},{:d}}}?'.format(x, y) if x != y\n",
    "         else '{{{:d}}}'.format(x)\n",
    "         for x, y in combinations_with_replacement(range(1, 4), 2)]\n",
    "components, component_weights = zip(\n",
    "    *[(b + s, w) for (b, w), s in product(zip(bases, weights), sizes)])\n",
    "# add empty string\n",
    "components = list(components) + ['', ]\n",
    "component_weights = np.asarray(list(component_weights) + [1, ])\n",
    "component_weights /= component_weights.sum()"
   ]
  },
  {
   "cell_type": "code",
   "execution_count": 23,
   "metadata": {
    "ExecuteTime": {
     "end_time": "2017-10-13T07:08:41.077523",
     "start_time": "2017-10-13T07:08:33.717084Z"
    },
    "collapsed": false,
    "deletable": true,
    "editable": true
   },
   "outputs": [],
   "source": [
    "training_seqs = []\n",
    "labels = []\n",
    "with open('./training_seqs.fa') as f:\n",
    "    for record in parse(f, 'fasta'):\n",
    "        labels.append(1)\n",
    "        seq = str(record.seq).upper()\n",
    "        training_seqs.append(seq)\n",
    "        labels.append(0)\n",
    "        training_seqs.append(kmer_shuffle(seq, len(seq), 1))\n",
    "zipped = list(zip(labels, training_seqs))\n",
    "random.shuffle(zipped)\n",
    "labels, training_seqs = zip(*zipped)"
   ]
  },
  {
   "cell_type": "code",
   "execution_count": 26,
   "metadata": {
    "ExecuteTime": {
     "end_time": "2017-10-13T07:09:28.700693",
     "start_time": "2017-10-13T07:09:28.697009Z"
    },
    "collapsed": false,
    "deletable": true,
    "editable": true
   },
   "outputs": [],
   "source": [
    "r = RegexGeneticEnsembleClassifier(\n",
    "    regex_components=components,\n",
    "    component_weight=component_weights,\n",
    "    n_pops=30, pop_size=1000, n_gen=2000, n_best=1,\n",
    "    ind_len=15, n_selected=500, n_offspring=200,\n",
    "    batch_size=100, early_stopping=5,\n",
    "    mut_rate=2, crossover_rate=2)"
   ]
  },
  {
   "cell_type": "code",
   "execution_count": null,
   "metadata": {
    "ExecuteTime": {
     "start_time": "2017-10-13T07:09:28.893Z"
    },
    "collapsed": false,
    "deletable": true,
    "editable": true,
    "scrolled": false
   },
   "outputs": [],
   "source": [
    "r.fit(training_seqs, labels)"
   ]
  },
  {
   "cell_type": "code",
   "execution_count": null,
   "metadata": {
    "ExecuteTime": {
     "start_time": "2017-10-13T07:09:29.955Z"
    },
    "collapsed": false,
    "deletable": true,
    "editable": true
   },
   "outputs": [],
   "source": [
    "r.score(training_seqs[-1000:], labels[-1000:])"
   ]
  },
  {
   "cell_type": "code",
   "execution_count": null,
   "metadata": {
    "ExecuteTime": {
     "start_time": "2017-10-13T07:09:30.428Z"
    },
    "collapsed": false,
    "deletable": true,
    "editable": true
   },
   "outputs": [],
   "source": [
    "roc_auc_score(labels[-1000:], r.predict_proba(training_seqs[-1000:])[:, 1])"
   ]
  },
  {
   "cell_type": "code",
   "execution_count": null,
   "metadata": {
    "ExecuteTime": {
     "start_time": "2017-10-13T07:09:30.954Z"
    },
    "collapsed": false,
    "deletable": true,
    "editable": true
   },
   "outputs": [],
   "source": [
    "fpr, tpr, _ = roc_curve(labels[-1000:],\n",
    "                        r.predict_proba(training_seqs[-1000:])[:, 1])\n",
    "plt.plot(fpr, tpr)\n",
    "plt.show()"
   ]
  },
  {
   "cell_type": "code",
   "execution_count": null,
   "metadata": {
    "ExecuteTime": {
     "start_time": "2017-10-13T07:09:39.172Z"
    },
    "collapsed": false,
    "deletable": true,
    "editable": true
   },
   "outputs": [],
   "source": [
    "r.estimators_"
   ]
  },
  {
   "cell_type": "code",
   "execution_count": null,
   "metadata": {
    "collapsed": true,
    "deletable": true,
    "editable": true
   },
   "outputs": [],
   "source": []
  }
 ],
 "metadata": {
  "kernelspec": {
   "display_name": "Environment (ml_python35)",
   "language": "",
   "name": "ml_python35"
  },
  "language_info": {
   "codemirror_mode": {
    "name": "ipython",
    "version": 3
   },
   "file_extension": ".py",
   "mimetype": "text/x-python",
   "name": "python",
   "nbconvert_exporter": "python",
   "pygments_lexer": "ipython3",
   "version": "3.5.4"
  },
  "toc": {
   "toc_cell": false,
   "toc_number_sections": true,
   "toc_threshold": 6,
   "toc_window_display": false
  },
  "widgets": {
   "state": {},
   "version": "1.1.1"
  }
 },
 "nbformat": 4,
 "nbformat_minor": 1
}
