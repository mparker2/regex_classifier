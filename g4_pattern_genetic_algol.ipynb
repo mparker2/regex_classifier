{
 "cells": [
  {
   "cell_type": "code",
   "execution_count": 2,
   "metadata": {
    "ExecuteTime": {
     "end_time": "2017-10-10T12:50:47.885646",
     "start_time": "2017-10-10T12:50:47.198151Z"
    },
    "collapsed": false,
    "deletable": true,
    "editable": true
   },
   "outputs": [],
   "source": [
    "from itertools import combinations, combinations_with_replacement, product\n",
    "\n",
    "import numpy as np\n",
    "import matplotlib.pyplot as plt\n",
    "import seaborn as sns\n",
    "\n",
    "from Bio.SeqIO import parse\n",
    "\n",
    "from regex_classifier import RegexGeneticEnsembleClassifier"
   ]
  },
  {
   "cell_type": "code",
   "execution_count": 3,
   "metadata": {
    "ExecuteTime": {
     "end_time": "2017-10-10T12:50:48.262978",
     "start_time": "2017-10-10T12:50:48.255172Z"
    },
    "collapsed": false
   },
   "outputs": [],
   "source": [
    "# create the components for regular expression\n",
    "bases = []\n",
    "for i in (1, 2, 3, 4):\n",
    "    bases += ['[' + ''.join(b) + ']' for b in combinations('ACGT', i)]\n",
    "sizes = ['{{{:d},{:d}}}?'.format(*x) for x in combinations_with_replacement(\n",
    "            range(1, 5), 2)]\n",
    "components = [b + s for b, s in product(bases, sizes)]\n",
    "# add empty string\n",
    "components.append('')"
   ]
  },
  {
   "cell_type": "code",
   "execution_count": 4,
   "metadata": {
    "ExecuteTime": {
     "end_time": "2017-10-10T12:50:52.701505",
     "start_time": "2017-10-10T12:50:48.830616Z"
    },
    "collapsed": false,
    "deletable": true,
    "editable": true
   },
   "outputs": [],
   "source": [
    "training_seqs = []\n",
    "labels = []\n",
    "with open('../g4seq_cnn/KPDS_training_data.fa') as f:\n",
    "    for record in parse(f, 'fasta'):\n",
    "        labels.append(int(record.id))\n",
    "        training_seqs.append(str(record.seq).upper())"
   ]
  },
  {
   "cell_type": "code",
   "execution_count": 5,
   "metadata": {
    "ExecuteTime": {
     "end_time": "2017-10-10T12:51:28.033184",
     "start_time": "2017-10-10T12:51:28.029851Z"
    },
    "collapsed": false,
    "deletable": true,
    "editable": true
   },
   "outputs": [],
   "source": [
    "r = RegexGeneticEnsembleClassifier(\n",
    "    regex_components=components,\n",
    "    n_pops=25, pop_size=1000, n_gen=1000, n_best=1,\n",
    "    ind_len=15, n_selected=500, n_offspring=200,\n",
    "    batch_size=1000, early_stopping=5)"
   ]
  },
  {
   "cell_type": "code",
   "execution_count": null,
   "metadata": {
    "ExecuteTime": {
     "start_time": "2017-10-10T12:51:28.630Z"
    },
    "collapsed": false,
    "deletable": true,
    "editable": true,
    "scrolled": false
   },
   "outputs": [],
   "source": [
    "r.fit(training_seqs, labels)"
   ]
  },
  {
   "cell_type": "code",
   "execution_count": 175,
   "metadata": {
    "ExecuteTime": {
     "end_time": "2017-10-08T09:28:24.186705",
     "start_time": "2017-10-08T09:28:22.598781Z"
    },
    "collapsed": false,
    "deletable": true,
    "editable": true
   },
   "outputs": [
    {
     "data": {
      "text/plain": [
       "0.95499999999999996"
      ]
     },
     "execution_count": 175,
     "metadata": {},
     "output_type": "execute_result"
    }
   ],
   "source": [
    "r.score(training_seqs[-1000:], labels[-1000:])"
   ]
  },
  {
   "cell_type": "code",
   "execution_count": 176,
   "metadata": {
    "ExecuteTime": {
     "end_time": "2017-10-08T09:28:25.402037",
     "start_time": "2017-10-08T09:28:24.213789Z"
    },
    "collapsed": false,
    "deletable": true,
    "editable": true
   },
   "outputs": [
    {
     "data": {
      "text/plain": [
       "0.98079500678250753"
      ]
     },
     "execution_count": 176,
     "metadata": {},
     "output_type": "execute_result"
    }
   ],
   "source": [
    "roc_auc_score(labels[-1000:], r.predict_proba(training_seqs[-1000:])[:, 1])"
   ]
  },
  {
   "cell_type": "code",
   "execution_count": 177,
   "metadata": {
    "ExecuteTime": {
     "end_time": "2017-10-08T09:28:27.959331",
     "start_time": "2017-10-08T09:28:25.403914Z"
    },
    "collapsed": false,
    "deletable": true,
    "editable": true
   },
   "outputs": [
    {
     "data": {
      "image/png": "[encoded data removed]",
      "text/plain": [
       "<matplotlib.figure.Figure at 0x7fb0e4bbd080>"
      ]
     },
     "metadata": {},
     "output_type": "display_data"
    }
   ],
   "source": [
    "fpr, tpr, _ = roc_curve(labels[-1000:],\n",
    "                        r.predict_proba(training_seqs[-1000:])[:, 1])\n",
    "plt.plot(fpr, tpr)\n",
    "plt.show()"
   ]
  }
 ],
 "metadata": {
  "kernelspec": {
   "display_name": "Environment (ml_python35)",
   "language": "",
   "name": "ml_python35"
  },
  "language_info": {
   "codemirror_mode": {
    "name": "ipython",
    "version": 3
   },
   "file_extension": ".py",
   "mimetype": "text/x-python",
   "name": "python",
   "nbconvert_exporter": "python",
   "pygments_lexer": "ipython3",
   "version": "3.5.4"
  },
  "toc": {
   "toc_cell": false,
   "toc_number_sections": true,
   "toc_threshold": 6,
   "toc_window_display": false
  }
 },
 "nbformat": 4,
 "nbformat_minor": 0
}
